{
 "cells": [
  {
   "cell_type": "markdown",
   "id": "c264ba9d-3c24-4952-9a9c-2b0ae76cfa70",
   "metadata": {},
   "source": [
    "# Statistics"
   ]
  },
  {
   "cell_type": "markdown",
   "id": "548e7f22-1b3e-4de2-8508-a0551b77507f",
   "metadata": {},
   "source": [
    "## Descriptive Statistics"
   ]
  },
  {
   "cell_type": "markdown",
   "id": "bf181b1c-d24a-4747-807c-7610b7a9289d",
   "metadata": {},
   "source": [
    "### Measures of central tendencey"
   ]
  },
  {
   "cell_type": "code",
   "execution_count": 3,
   "id": "89935b1f-b6bd-4527-9cd3-faa01f7c6422",
   "metadata": {},
   "outputs": [],
   "source": [
    "import numpy as np \n",
    "import pandas as pd \n",
    "import matplotlib.pyplot as plt \n",
    "import seaborn as sns"
   ]
  },
  {
   "cell_type": "code",
   "execution_count": 2,
   "id": "a1bb2ba0-f539-4238-a9e8-152b15428195",
   "metadata": {},
   "outputs": [],
   "source": [
    "arr=np.array([2,3,4,45,5,5])"
   ]
  },
  {
   "cell_type": "code",
   "execution_count": 3,
   "id": "3e011c3f-ba31-4d48-ba9d-a7aa65aa15da",
   "metadata": {},
   "outputs": [
    {
     "data": {
      "text/plain": [
       "array([ 2,  3,  4, 45,  5,  5])"
      ]
     },
     "execution_count": 3,
     "metadata": {},
     "output_type": "execute_result"
    }
   ],
   "source": [
    "arr"
   ]
  },
  {
   "cell_type": "code",
   "execution_count": 19,
   "id": "374e3b15-b805-42b3-8e46-3c93ae4e4101",
   "metadata": {},
   "outputs": [],
   "source": [
    "mean=np.sum(arr)/len(arr)"
   ]
  },
  {
   "cell_type": "code",
   "execution_count": 20,
   "id": "51123dea-014e-4dad-b70e-2a2101471d4d",
   "metadata": {},
   "outputs": [
    {
     "data": {
      "text/plain": [
       "10.666666666666666"
      ]
     },
     "execution_count": 20,
     "metadata": {},
     "output_type": "execute_result"
    }
   ],
   "source": [
    "np.mean(arr)"
   ]
  },
  {
   "cell_type": "code",
   "execution_count": 4,
   "id": "1580bb68-036d-412a-83b7-c6bca8455023",
   "metadata": {},
   "outputs": [],
   "source": [
    "ds=pd.read_csv(\"titanic.csv\")"
   ]
  },
  {
   "cell_type": "code",
   "execution_count": 5,
   "id": "58584581-cfba-4176-9d39-8ed8b32d916b",
   "metadata": {},
   "outputs": [
    {
     "data": {
      "text/html": [
       "<div>\n",
       "<style scoped>\n",
       "    .dataframe tbody tr th:only-of-type {\n",
       "        vertical-align: middle;\n",
       "    }\n",
       "\n",
       "    .dataframe tbody tr th {\n",
       "        vertical-align: top;\n",
       "    }\n",
       "\n",
       "    .dataframe thead th {\n",
       "        text-align: right;\n",
       "    }\n",
       "</style>\n",
       "<table border=\"1\" class=\"dataframe\">\n",
       "  <thead>\n",
       "    <tr style=\"text-align: right;\">\n",
       "      <th></th>\n",
       "      <th>Passengerid</th>\n",
       "      <th>Age</th>\n",
       "      <th>Fare</th>\n",
       "      <th>Sex</th>\n",
       "      <th>sibsp</th>\n",
       "      <th>zero</th>\n",
       "      <th>zero.1</th>\n",
       "      <th>zero.2</th>\n",
       "      <th>zero.3</th>\n",
       "      <th>zero.4</th>\n",
       "      <th>...</th>\n",
       "      <th>zero.12</th>\n",
       "      <th>zero.13</th>\n",
       "      <th>zero.14</th>\n",
       "      <th>Pclass</th>\n",
       "      <th>zero.15</th>\n",
       "      <th>zero.16</th>\n",
       "      <th>Embarked</th>\n",
       "      <th>zero.17</th>\n",
       "      <th>zero.18</th>\n",
       "      <th>2urvived</th>\n",
       "    </tr>\n",
       "  </thead>\n",
       "  <tbody>\n",
       "    <tr>\n",
       "      <th>0</th>\n",
       "      <td>1</td>\n",
       "      <td>22.0</td>\n",
       "      <td>7.2500</td>\n",
       "      <td>0</td>\n",
       "      <td>1</td>\n",
       "      <td>0</td>\n",
       "      <td>0</td>\n",
       "      <td>0</td>\n",
       "      <td>0</td>\n",
       "      <td>0</td>\n",
       "      <td>...</td>\n",
       "      <td>0</td>\n",
       "      <td>0</td>\n",
       "      <td>0</td>\n",
       "      <td>3</td>\n",
       "      <td>0</td>\n",
       "      <td>0</td>\n",
       "      <td>2.0</td>\n",
       "      <td>0</td>\n",
       "      <td>0</td>\n",
       "      <td>0</td>\n",
       "    </tr>\n",
       "    <tr>\n",
       "      <th>1</th>\n",
       "      <td>2</td>\n",
       "      <td>38.0</td>\n",
       "      <td>71.2833</td>\n",
       "      <td>1</td>\n",
       "      <td>1</td>\n",
       "      <td>0</td>\n",
       "      <td>0</td>\n",
       "      <td>0</td>\n",
       "      <td>0</td>\n",
       "      <td>0</td>\n",
       "      <td>...</td>\n",
       "      <td>0</td>\n",
       "      <td>0</td>\n",
       "      <td>0</td>\n",
       "      <td>1</td>\n",
       "      <td>0</td>\n",
       "      <td>0</td>\n",
       "      <td>0.0</td>\n",
       "      <td>0</td>\n",
       "      <td>0</td>\n",
       "      <td>1</td>\n",
       "    </tr>\n",
       "    <tr>\n",
       "      <th>2</th>\n",
       "      <td>3</td>\n",
       "      <td>26.0</td>\n",
       "      <td>7.9250</td>\n",
       "      <td>1</td>\n",
       "      <td>0</td>\n",
       "      <td>0</td>\n",
       "      <td>0</td>\n",
       "      <td>0</td>\n",
       "      <td>0</td>\n",
       "      <td>0</td>\n",
       "      <td>...</td>\n",
       "      <td>0</td>\n",
       "      <td>0</td>\n",
       "      <td>0</td>\n",
       "      <td>3</td>\n",
       "      <td>0</td>\n",
       "      <td>0</td>\n",
       "      <td>2.0</td>\n",
       "      <td>0</td>\n",
       "      <td>0</td>\n",
       "      <td>1</td>\n",
       "    </tr>\n",
       "  </tbody>\n",
       "</table>\n",
       "<p>3 rows × 28 columns</p>\n",
       "</div>"
      ],
      "text/plain": [
       "   Passengerid   Age     Fare  Sex  sibsp  zero  zero.1  zero.2  zero.3  \\\n",
       "0            1  22.0   7.2500    0      1     0       0       0       0   \n",
       "1            2  38.0  71.2833    1      1     0       0       0       0   \n",
       "2            3  26.0   7.9250    1      0     0       0       0       0   \n",
       "\n",
       "   zero.4  ...  zero.12  zero.13  zero.14  Pclass  zero.15  zero.16  Embarked  \\\n",
       "0       0  ...        0        0        0       3        0        0       2.0   \n",
       "1       0  ...        0        0        0       1        0        0       0.0   \n",
       "2       0  ...        0        0        0       3        0        0       2.0   \n",
       "\n",
       "   zero.17  zero.18  2urvived  \n",
       "0        0        0         0  \n",
       "1        0        0         1  \n",
       "2        0        0         1  \n",
       "\n",
       "[3 rows x 28 columns]"
      ]
     },
     "execution_count": 5,
     "metadata": {},
     "output_type": "execute_result"
    }
   ],
   "source": [
    "ds.head(3)"
   ]
  },
  {
   "cell_type": "code",
   "execution_count": 6,
   "id": "e5976faf-b41f-4aa2-8604-885954b0fa2a",
   "metadata": {},
   "outputs": [],
   "source": [
    "mn=np.mean(ds[\"Age\"])"
   ]
  },
  {
   "cell_type": "code",
   "execution_count": 7,
   "id": "ac60c792-17bf-4edb-ab35-995584924774",
   "metadata": {
    "scrolled": true
   },
   "outputs": [
    {
     "data": {
      "text/plain": [
       "Passengerid    0\n",
       "Age            0\n",
       "Fare           0\n",
       "Sex            0\n",
       "sibsp          0\n",
       "zero           0\n",
       "zero.1         0\n",
       "zero.2         0\n",
       "zero.3         0\n",
       "zero.4         0\n",
       "zero.5         0\n",
       "zero.6         0\n",
       "Parch          0\n",
       "zero.7         0\n",
       "zero.8         0\n",
       "zero.9         0\n",
       "zero.10        0\n",
       "zero.11        0\n",
       "zero.12        0\n",
       "zero.13        0\n",
       "zero.14        0\n",
       "Pclass         0\n",
       "zero.15        0\n",
       "zero.16        0\n",
       "Embarked       2\n",
       "zero.17        0\n",
       "zero.18        0\n",
       "2urvived       0\n",
       "dtype: int64"
      ]
     },
     "execution_count": 7,
     "metadata": {},
     "output_type": "execute_result"
    }
   ],
   "source": [
    "ds.isnull().sum()"
   ]
  },
  {
   "cell_type": "code",
   "execution_count": 8,
   "id": "4357cef9-d6b0-45ee-a4bf-9bbaf7170d35",
   "metadata": {},
   "outputs": [],
   "source": [
    "#ds[\"Age\"].fillna(ds[\"Age\"].mean(),inplace=True)"
   ]
  },
  {
   "cell_type": "code",
   "execution_count": 9,
   "id": "631fe34a-4d8c-41f9-baa8-ec16d3b1b875",
   "metadata": {},
   "outputs": [],
   "source": [
    "md=ds[\"Age\"].median()\n",
    "# md=np.median(ds[\"Age\"])"
   ]
  },
  {
   "cell_type": "code",
   "execution_count": 10,
   "id": "8423c98f-d4a1-4376-a5d1-9d6932e8c72c",
   "metadata": {},
   "outputs": [],
   "source": [
    "mo=ds[\"Age\"].mode()[0]"
   ]
  },
  {
   "cell_type": "code",
   "execution_count": 11,
   "id": "76ace70b-16d5-4977-9534-38bf83a87301",
   "metadata": {},
   "outputs": [
    {
     "data": {
      "image/png": "[encoded data removed]",
      "text/plain": [
       "<Figure size 640x480 with 1 Axes>"
      ]
     },
     "metadata": {},
     "output_type": "display_data"
    }
   ],
   "source": [
    "sns.histplot(x=\"Age\",data=ds,bins=[i for i in range(0,81,10)])\n",
    "plt.plot([mn for i in range(0, 700)],[i for i in range(0, 700)],c=\"red\",label=\"mean\")\n",
    "plt.plot([md for i in range(0, 700)],[i for i in range(0, 700)],c=\"black\",label=\"median\")\n",
    "plt.plot([mo for i in range(0, 700)],[i for i in range(0, 700)],c=\"yellow\",label=\"mode\")\n",
    "plt.legend()\n",
    "plt.show() "
   ]
  },
  {
   "cell_type": "code",
   "execution_count": 73,
   "id": "2ad06cb9-e5ae-4002-aaf2-c9cb2190e32f",
   "metadata": {},
   "outputs": [
    {
     "name": "stdout",
     "output_type": "stream",
     "text": [
      "28.0 28.0 29.50318563789152\n"
     ]
    }
   ],
   "source": [
    "print(mo,md,mn)"
   ]
  },
  {
   "cell_type": "markdown",
   "id": "7afac293-c206-4445-a57d-57feb01627bd",
   "metadata": {},
   "source": [
    "### Measures of variability\n",
    " choose the dataset which are less spread"
   ]
  },
  {
   "cell_type": "code",
   "execution_count": 3,
   "id": "16e02072-fc31-4694-867a-fa4c87a7e00d",
   "metadata": {},
   "outputs": [],
   "source": [
    "ds1=pd.read_csv(\"tips.csv\")"
   ]
  },
  {
   "cell_type": "code",
   "execution_count": 6,
   "id": "bfcffbad-dd05-4bbd-8dcf-d4180cd4cdd2",
   "metadata": {},
   "outputs": [
    {
     "data": {
      "text/html": [
       "<div>\n",
       "<style scoped>\n",
       "    .dataframe tbody tr th:only-of-type {\n",
       "        vertical-align: middle;\n",
       "    }\n",
       "\n",
       "    .dataframe tbody tr th {\n",
       "        vertical-align: top;\n",
       "    }\n",
       "\n",
       "    .dataframe thead th {\n",
       "        text-align: right;\n",
       "    }\n",
       "</style>\n",
       "<table border=\"1\" class=\"dataframe\">\n",
       "  <thead>\n",
       "    <tr style=\"text-align: right;\">\n",
       "      <th></th>\n",
       "      <th>Passengerid</th>\n",
       "      <th>Age</th>\n",
       "      <th>Fare</th>\n",
       "      <th>Sex</th>\n",
       "      <th>sibsp</th>\n",
       "      <th>zero</th>\n",
       "      <th>zero.1</th>\n",
       "      <th>zero.2</th>\n",
       "      <th>zero.3</th>\n",
       "      <th>zero.4</th>\n",
       "      <th>...</th>\n",
       "      <th>zero.12</th>\n",
       "      <th>zero.13</th>\n",
       "      <th>zero.14</th>\n",
       "      <th>Pclass</th>\n",
       "      <th>zero.15</th>\n",
       "      <th>zero.16</th>\n",
       "      <th>Embarked</th>\n",
       "      <th>zero.17</th>\n",
       "      <th>zero.18</th>\n",
       "      <th>2urvived</th>\n",
       "    </tr>\n",
       "  </thead>\n",
       "  <tbody>\n",
       "    <tr>\n",
       "      <th>0</th>\n",
       "      <td>1</td>\n",
       "      <td>22.0</td>\n",
       "      <td>7.2500</td>\n",
       "      <td>0</td>\n",
       "      <td>1</td>\n",
       "      <td>0</td>\n",
       "      <td>0</td>\n",
       "      <td>0</td>\n",
       "      <td>0</td>\n",
       "      <td>0</td>\n",
       "      <td>...</td>\n",
       "      <td>0</td>\n",
       "      <td>0</td>\n",
       "      <td>0</td>\n",
       "      <td>3</td>\n",
       "      <td>0</td>\n",
       "      <td>0</td>\n",
       "      <td>2.0</td>\n",
       "      <td>0</td>\n",
       "      <td>0</td>\n",
       "      <td>0</td>\n",
       "    </tr>\n",
       "    <tr>\n",
       "      <th>1</th>\n",
       "      <td>2</td>\n",
       "      <td>38.0</td>\n",
       "      <td>71.2833</td>\n",
       "      <td>1</td>\n",
       "      <td>1</td>\n",
       "      <td>0</td>\n",
       "      <td>0</td>\n",
       "      <td>0</td>\n",
       "      <td>0</td>\n",
       "      <td>0</td>\n",
       "      <td>...</td>\n",
       "      <td>0</td>\n",
       "      <td>0</td>\n",
       "      <td>0</td>\n",
       "      <td>1</td>\n",
       "      <td>0</td>\n",
       "      <td>0</td>\n",
       "      <td>0.0</td>\n",
       "      <td>0</td>\n",
       "      <td>0</td>\n",
       "      <td>1</td>\n",
       "    </tr>\n",
       "    <tr>\n",
       "      <th>2</th>\n",
       "      <td>3</td>\n",
       "      <td>26.0</td>\n",
       "      <td>7.9250</td>\n",
       "      <td>1</td>\n",
       "      <td>0</td>\n",
       "      <td>0</td>\n",
       "      <td>0</td>\n",
       "      <td>0</td>\n",
       "      <td>0</td>\n",
       "      <td>0</td>\n",
       "      <td>...</td>\n",
       "      <td>0</td>\n",
       "      <td>0</td>\n",
       "      <td>0</td>\n",
       "      <td>3</td>\n",
       "      <td>0</td>\n",
       "      <td>0</td>\n",
       "      <td>2.0</td>\n",
       "      <td>0</td>\n",
       "      <td>0</td>\n",
       "      <td>1</td>\n",
       "    </tr>\n",
       "  </tbody>\n",
       "</table>\n",
       "<p>3 rows × 28 columns</p>\n",
       "</div>"
      ],
      "text/plain": [
       "   Passengerid   Age     Fare  Sex  sibsp  zero  zero.1  zero.2  zero.3  \\\n",
       "0            1  22.0   7.2500    0      1     0       0       0       0   \n",
       "1            2  38.0  71.2833    1      1     0       0       0       0   \n",
       "2            3  26.0   7.9250    1      0     0       0       0       0   \n",
       "\n",
       "   zero.4  ...  zero.12  zero.13  zero.14  Pclass  zero.15  zero.16  Embarked  \\\n",
       "0       0  ...        0        0        0       3        0        0       2.0   \n",
       "1       0  ...        0        0        0       1        0        0       0.0   \n",
       "2       0  ...        0        0        0       3        0        0       2.0   \n",
       "\n",
       "   zero.17  zero.18  2urvived  \n",
       "0        0        0         0  \n",
       "1        0        0         1  \n",
       "2        0        0         1  \n",
       "\n",
       "[3 rows x 28 columns]"
      ]
     },
     "execution_count": 6,
     "metadata": {},
     "output_type": "execute_result"
    }
   ],
   "source": [
    "ds.head(3)"
   ]
  },
  {
   "cell_type": "code",
   "execution_count": 33,
   "id": "eb078998-6aeb-4613-998f-a2053090a74f",
   "metadata": {},
   "outputs": [],
   "source": [
    "max_r = ds1[\"total_bill\"].max()\n",
    "min_r = ds1[\"total_bill\"].min()"
   ]
  },
  {
   "cell_type": "code",
   "execution_count": 34,
   "id": "11b4befa-fe9b-4983-aa7f-f650a694367f",
   "metadata": {},
   "outputs": [
    {
     "data": {
      "text/plain": [
       "(50.81, 3.07)"
      ]
     },
     "execution_count": 34,
     "metadata": {},
     "output_type": "execute_result"
    }
   ],
   "source": [
    "max_r,min_r"
   ]
  },
  {
   "cell_type": "code",
   "execution_count": 35,
   "id": "ac199ece-6e07-432b-aa2f-cd345e3df54e",
   "metadata": {},
   "outputs": [],
   "source": [
    "range = max_r-min_r"
   ]
  },
  {
   "cell_type": "code",
   "execution_count": 36,
   "id": "475a291d-f1bd-433d-baee-e881c67a1458",
   "metadata": {},
   "outputs": [
    {
     "name": "stdout",
     "output_type": "stream",
     "text": [
      "47.74\n"
     ]
    }
   ],
   "source": [
    "print(range)"
   ]
  },
  {
   "cell_type": "code",
   "execution_count": 38,
   "id": "100a1e60-57a0-4e9c-b80e-d27184772ad5",
   "metadata": {},
   "outputs": [
    {
     "data": {
      "text/plain": [
       "(79.25293861397826, 8.902411954856856)"
      ]
     },
     "execution_count": 38,
     "metadata": {},
     "output_type": "execute_result"
    }
   ],
   "source": [
    "ds1[\"total_bill\"].var(),ds1[\"total_bill\"].std()"
   ]
  },
  {
   "cell_type": "code",
   "execution_count": 98,
   "id": "cfe8ee64-3592-4afe-8fe1-1bfa5f93b6d3",
   "metadata": {},
   "outputs": [
    {
     "data": {
      "image/png": "[encoded data removed]",
      "text/plain": [
       "<Figure size 640x480 with 1 Axes>"
      ]
     },
     "metadata": {},
     "output_type": "display_data"
    }
   ],
   "source": [
    "sns.histplot(x='total_bill',data=ds1)\n",
    "plt.show()"
   ]
  },
  {
   "cell_type": "code",
   "execution_count": 39,
   "id": "7d694585-a029-4f83-a86f-cbd28ff394aa",
   "metadata": {
    "scrolled": true
   },
   "outputs": [
    {
     "data": {
      "text/html": [
       "<div>\n",
       "<style scoped>\n",
       "    .dataframe tbody tr th:only-of-type {\n",
       "        vertical-align: middle;\n",
       "    }\n",
       "\n",
       "    .dataframe tbody tr th {\n",
       "        vertical-align: top;\n",
       "    }\n",
       "\n",
       "    .dataframe thead th {\n",
       "        text-align: right;\n",
       "    }\n",
       "</style>\n",
       "<table border=\"1\" class=\"dataframe\">\n",
       "  <thead>\n",
       "    <tr style=\"text-align: right;\">\n",
       "      <th></th>\n",
       "      <th>total_bill</th>\n",
       "      <th>tip</th>\n",
       "      <th>size</th>\n",
       "      <th>price_per_person</th>\n",
       "      <th>CC Number</th>\n",
       "    </tr>\n",
       "  </thead>\n",
       "  <tbody>\n",
       "    <tr>\n",
       "      <th>count</th>\n",
       "      <td>244.000000</td>\n",
       "      <td>244.000000</td>\n",
       "      <td>244.000000</td>\n",
       "      <td>244.000000</td>\n",
       "      <td>2.440000e+02</td>\n",
       "    </tr>\n",
       "    <tr>\n",
       "      <th>mean</th>\n",
       "      <td>19.785943</td>\n",
       "      <td>2.998279</td>\n",
       "      <td>2.569672</td>\n",
       "      <td>7.888197</td>\n",
       "      <td>2.563496e+15</td>\n",
       "    </tr>\n",
       "    <tr>\n",
       "      <th>std</th>\n",
       "      <td>8.902412</td>\n",
       "      <td>1.383638</td>\n",
       "      <td>0.951100</td>\n",
       "      <td>2.914234</td>\n",
       "      <td>2.369340e+15</td>\n",
       "    </tr>\n",
       "    <tr>\n",
       "      <th>min</th>\n",
       "      <td>3.070000</td>\n",
       "      <td>1.000000</td>\n",
       "      <td>1.000000</td>\n",
       "      <td>2.880000</td>\n",
       "      <td>6.040679e+10</td>\n",
       "    </tr>\n",
       "    <tr>\n",
       "      <th>25%</th>\n",
       "      <td>13.347500</td>\n",
       "      <td>2.000000</td>\n",
       "      <td>2.000000</td>\n",
       "      <td>5.800000</td>\n",
       "      <td>3.040731e+13</td>\n",
       "    </tr>\n",
       "    <tr>\n",
       "      <th>50%</th>\n",
       "      <td>17.795000</td>\n",
       "      <td>2.900000</td>\n",
       "      <td>2.000000</td>\n",
       "      <td>7.255000</td>\n",
       "      <td>3.525318e+15</td>\n",
       "    </tr>\n",
       "    <tr>\n",
       "      <th>75%</th>\n",
       "      <td>24.127500</td>\n",
       "      <td>3.562500</td>\n",
       "      <td>3.000000</td>\n",
       "      <td>9.390000</td>\n",
       "      <td>4.553675e+15</td>\n",
       "    </tr>\n",
       "    <tr>\n",
       "      <th>max</th>\n",
       "      <td>50.810000</td>\n",
       "      <td>10.000000</td>\n",
       "      <td>6.000000</td>\n",
       "      <td>20.270000</td>\n",
       "      <td>6.596454e+15</td>\n",
       "    </tr>\n",
       "  </tbody>\n",
       "</table>\n",
       "</div>"
      ],
      "text/plain": [
       "       total_bill         tip        size  price_per_person     CC Number\n",
       "count  244.000000  244.000000  244.000000        244.000000  2.440000e+02\n",
       "mean    19.785943    2.998279    2.569672          7.888197  2.563496e+15\n",
       "std      8.902412    1.383638    0.951100          2.914234  2.369340e+15\n",
       "min      3.070000    1.000000    1.000000          2.880000  6.040679e+10\n",
       "25%     13.347500    2.000000    2.000000          5.800000  3.040731e+13\n",
       "50%     17.795000    2.900000    2.000000          7.255000  3.525318e+15\n",
       "75%     24.127500    3.562500    3.000000          9.390000  4.553675e+15\n",
       "max     50.810000   10.000000    6.000000         20.270000  6.596454e+15"
      ]
     },
     "execution_count": 39,
     "metadata": {},
     "output_type": "execute_result"
    }
   ],
   "source": [
    "ds1.describe()"
   ]
  },
  {
   "cell_type": "code",
   "execution_count": 49,
   "id": "f8d86238-6710-4780-8752-8f08bb86e09f",
   "metadata": {},
   "outputs": [
    {
     "data": {
      "text/html": [
       "<div>\n",
       "<style scoped>\n",
       "    .dataframe tbody tr th:only-of-type {\n",
       "        vertical-align: middle;\n",
       "    }\n",
       "\n",
       "    .dataframe tbody tr th {\n",
       "        vertical-align: top;\n",
       "    }\n",
       "\n",
       "    .dataframe thead th {\n",
       "        text-align: right;\n",
       "    }\n",
       "</style>\n",
       "<table border=\"1\" class=\"dataframe\">\n",
       "  <thead>\n",
       "    <tr style=\"text-align: right;\">\n",
       "      <th></th>\n",
       "      <th>Passengerid</th>\n",
       "      <th>Age</th>\n",
       "      <th>Fare</th>\n",
       "      <th>Sex</th>\n",
       "      <th>sibsp</th>\n",
       "      <th>zero</th>\n",
       "      <th>zero.1</th>\n",
       "      <th>zero.2</th>\n",
       "      <th>zero.3</th>\n",
       "      <th>zero.4</th>\n",
       "      <th>...</th>\n",
       "      <th>zero.12</th>\n",
       "      <th>zero.13</th>\n",
       "      <th>zero.14</th>\n",
       "      <th>Pclass</th>\n",
       "      <th>zero.15</th>\n",
       "      <th>zero.16</th>\n",
       "      <th>Embarked</th>\n",
       "      <th>zero.17</th>\n",
       "      <th>zero.18</th>\n",
       "      <th>2urvived</th>\n",
       "    </tr>\n",
       "  </thead>\n",
       "  <tbody>\n",
       "    <tr>\n",
       "      <th>count</th>\n",
       "      <td>1309.000000</td>\n",
       "      <td>1309.000000</td>\n",
       "      <td>1309.000000</td>\n",
       "      <td>1309.000000</td>\n",
       "      <td>1309.000000</td>\n",
       "      <td>1309.0</td>\n",
       "      <td>1309.0</td>\n",
       "      <td>1309.0</td>\n",
       "      <td>1309.0</td>\n",
       "      <td>1309.0</td>\n",
       "      <td>...</td>\n",
       "      <td>1309.0</td>\n",
       "      <td>1309.0</td>\n",
       "      <td>1309.0</td>\n",
       "      <td>1309.000000</td>\n",
       "      <td>1309.0</td>\n",
       "      <td>1309.0</td>\n",
       "      <td>1307.000000</td>\n",
       "      <td>1309.0</td>\n",
       "      <td>1309.0</td>\n",
       "      <td>1309.000000</td>\n",
       "    </tr>\n",
       "    <tr>\n",
       "      <th>mean</th>\n",
       "      <td>655.000000</td>\n",
       "      <td>29.503186</td>\n",
       "      <td>33.281086</td>\n",
       "      <td>0.355997</td>\n",
       "      <td>0.498854</td>\n",
       "      <td>0.0</td>\n",
       "      <td>0.0</td>\n",
       "      <td>0.0</td>\n",
       "      <td>0.0</td>\n",
       "      <td>0.0</td>\n",
       "      <td>...</td>\n",
       "      <td>0.0</td>\n",
       "      <td>0.0</td>\n",
       "      <td>0.0</td>\n",
       "      <td>2.294882</td>\n",
       "      <td>0.0</td>\n",
       "      <td>0.0</td>\n",
       "      <td>1.492731</td>\n",
       "      <td>0.0</td>\n",
       "      <td>0.0</td>\n",
       "      <td>0.261268</td>\n",
       "    </tr>\n",
       "    <tr>\n",
       "      <th>std</th>\n",
       "      <td>378.020061</td>\n",
       "      <td>12.905241</td>\n",
       "      <td>51.741500</td>\n",
       "      <td>0.478997</td>\n",
       "      <td>1.041658</td>\n",
       "      <td>0.0</td>\n",
       "      <td>0.0</td>\n",
       "      <td>0.0</td>\n",
       "      <td>0.0</td>\n",
       "      <td>0.0</td>\n",
       "      <td>...</td>\n",
       "      <td>0.0</td>\n",
       "      <td>0.0</td>\n",
       "      <td>0.0</td>\n",
       "      <td>0.837836</td>\n",
       "      <td>0.0</td>\n",
       "      <td>0.0</td>\n",
       "      <td>0.814626</td>\n",
       "      <td>0.0</td>\n",
       "      <td>0.0</td>\n",
       "      <td>0.439494</td>\n",
       "    </tr>\n",
       "    <tr>\n",
       "      <th>min</th>\n",
       "      <td>1.000000</td>\n",
       "      <td>0.170000</td>\n",
       "      <td>0.000000</td>\n",
       "      <td>0.000000</td>\n",
       "      <td>0.000000</td>\n",
       "      <td>0.0</td>\n",
       "      <td>0.0</td>\n",
       "      <td>0.0</td>\n",
       "      <td>0.0</td>\n",
       "      <td>0.0</td>\n",
       "      <td>...</td>\n",
       "      <td>0.0</td>\n",
       "      <td>0.0</td>\n",
       "      <td>0.0</td>\n",
       "      <td>1.000000</td>\n",
       "      <td>0.0</td>\n",
       "      <td>0.0</td>\n",
       "      <td>0.000000</td>\n",
       "      <td>0.0</td>\n",
       "      <td>0.0</td>\n",
       "      <td>0.000000</td>\n",
       "    </tr>\n",
       "    <tr>\n",
       "      <th>25%</th>\n",
       "      <td>328.000000</td>\n",
       "      <td>22.000000</td>\n",
       "      <td>7.895800</td>\n",
       "      <td>0.000000</td>\n",
       "      <td>0.000000</td>\n",
       "      <td>0.0</td>\n",
       "      <td>0.0</td>\n",
       "      <td>0.0</td>\n",
       "      <td>0.0</td>\n",
       "      <td>0.0</td>\n",
       "      <td>...</td>\n",
       "      <td>0.0</td>\n",
       "      <td>0.0</td>\n",
       "      <td>0.0</td>\n",
       "      <td>2.000000</td>\n",
       "      <td>0.0</td>\n",
       "      <td>0.0</td>\n",
       "      <td>1.000000</td>\n",
       "      <td>0.0</td>\n",
       "      <td>0.0</td>\n",
       "      <td>0.000000</td>\n",
       "    </tr>\n",
       "    <tr>\n",
       "      <th>50%</th>\n",
       "      <td>655.000000</td>\n",
       "      <td>28.000000</td>\n",
       "      <td>14.454200</td>\n",
       "      <td>0.000000</td>\n",
       "      <td>0.000000</td>\n",
       "      <td>0.0</td>\n",
       "      <td>0.0</td>\n",
       "      <td>0.0</td>\n",
       "      <td>0.0</td>\n",
       "      <td>0.0</td>\n",
       "      <td>...</td>\n",
       "      <td>0.0</td>\n",
       "      <td>0.0</td>\n",
       "      <td>0.0</td>\n",
       "      <td>3.000000</td>\n",
       "      <td>0.0</td>\n",
       "      <td>0.0</td>\n",
       "      <td>2.000000</td>\n",
       "      <td>0.0</td>\n",
       "      <td>0.0</td>\n",
       "      <td>0.000000</td>\n",
       "    </tr>\n",
       "    <tr>\n",
       "      <th>75%</th>\n",
       "      <td>982.000000</td>\n",
       "      <td>35.000000</td>\n",
       "      <td>31.275000</td>\n",
       "      <td>1.000000</td>\n",
       "      <td>1.000000</td>\n",
       "      <td>0.0</td>\n",
       "      <td>0.0</td>\n",
       "      <td>0.0</td>\n",
       "      <td>0.0</td>\n",
       "      <td>0.0</td>\n",
       "      <td>...</td>\n",
       "      <td>0.0</td>\n",
       "      <td>0.0</td>\n",
       "      <td>0.0</td>\n",
       "      <td>3.000000</td>\n",
       "      <td>0.0</td>\n",
       "      <td>0.0</td>\n",
       "      <td>2.000000</td>\n",
       "      <td>0.0</td>\n",
       "      <td>0.0</td>\n",
       "      <td>1.000000</td>\n",
       "    </tr>\n",
       "    <tr>\n",
       "      <th>max</th>\n",
       "      <td>1309.000000</td>\n",
       "      <td>80.000000</td>\n",
       "      <td>512.329200</td>\n",
       "      <td>1.000000</td>\n",
       "      <td>8.000000</td>\n",
       "      <td>0.0</td>\n",
       "      <td>0.0</td>\n",
       "      <td>0.0</td>\n",
       "      <td>0.0</td>\n",
       "      <td>0.0</td>\n",
       "      <td>...</td>\n",
       "      <td>0.0</td>\n",
       "      <td>0.0</td>\n",
       "      <td>0.0</td>\n",
       "      <td>3.000000</td>\n",
       "      <td>0.0</td>\n",
       "      <td>0.0</td>\n",
       "      <td>2.000000</td>\n",
       "      <td>0.0</td>\n",
       "      <td>0.0</td>\n",
       "      <td>1.000000</td>\n",
       "    </tr>\n",
       "  </tbody>\n",
       "</table>\n",
       "<p>8 rows × 28 columns</p>\n",
       "</div>"
      ],
      "text/plain": [
       "       Passengerid          Age         Fare          Sex        sibsp  \\\n",
       "count  1309.000000  1309.000000  1309.000000  1309.000000  1309.000000   \n",
       "mean    655.000000    29.503186    33.281086     0.355997     0.498854   \n",
       "std     378.020061    12.905241    51.741500     0.478997     1.041658   \n",
       "min       1.000000     0.170000     0.000000     0.000000     0.000000   \n",
       "25%     328.000000    22.000000     7.895800     0.000000     0.000000   \n",
       "50%     655.000000    28.000000    14.454200     0.000000     0.000000   \n",
       "75%     982.000000    35.000000    31.275000     1.000000     1.000000   \n",
       "max    1309.000000    80.000000   512.329200     1.000000     8.000000   \n",
       "\n",
       "         zero  zero.1  zero.2  zero.3  zero.4  ...  zero.12  zero.13  zero.14  \\\n",
       "count  1309.0  1309.0  1309.0  1309.0  1309.0  ...   1309.0   1309.0   1309.0   \n",
       "mean      0.0     0.0     0.0     0.0     0.0  ...      0.0      0.0      0.0   \n",
       "std       0.0     0.0     0.0     0.0     0.0  ...      0.0      0.0      0.0   \n",
       "min       0.0     0.0     0.0     0.0     0.0  ...      0.0      0.0      0.0   \n",
       "25%       0.0     0.0     0.0     0.0     0.0  ...      0.0      0.0      0.0   \n",
       "50%       0.0     0.0     0.0     0.0     0.0  ...      0.0      0.0      0.0   \n",
       "75%       0.0     0.0     0.0     0.0     0.0  ...      0.0      0.0      0.0   \n",
       "max       0.0     0.0     0.0     0.0     0.0  ...      0.0      0.0      0.0   \n",
       "\n",
       "            Pclass  zero.15  zero.16     Embarked  zero.17  zero.18  \\\n",
       "count  1309.000000   1309.0   1309.0  1307.000000   1309.0   1309.0   \n",
       "mean      2.294882      0.0      0.0     1.492731      0.0      0.0   \n",
       "std       0.837836      0.0      0.0     0.814626      0.0      0.0   \n",
       "min       1.000000      0.0      0.0     0.000000      0.0      0.0   \n",
       "25%       2.000000      0.0      0.0     1.000000      0.0      0.0   \n",
       "50%       3.000000      0.0      0.0     2.000000      0.0      0.0   \n",
       "75%       3.000000      0.0      0.0     2.000000      0.0      0.0   \n",
       "max       3.000000      0.0      0.0     2.000000      0.0      0.0   \n",
       "\n",
       "          2urvived  \n",
       "count  1309.000000  \n",
       "mean      0.261268  \n",
       "std       0.439494  \n",
       "min       0.000000  \n",
       "25%       0.000000  \n",
       "50%       0.000000  \n",
       "75%       1.000000  \n",
       "max       1.000000  \n",
       "\n",
       "[8 rows x 28 columns]"
      ]
     },
     "execution_count": 49,
     "metadata": {},
     "output_type": "execute_result"
    }
   ],
   "source": [
    "ds.describe()"
   ]
  },
  {
   "cell_type": "markdown",
   "id": "90f53f06-c6ce-4251-9286-3b321ccd3b27",
   "metadata": {},
   "source": [
    "### Percentiles and quartiles\n"
   ]
  },
  {
   "cell_type": "code",
   "execution_count": 41,
   "id": "8ec7f0a1-699a-4124-aae6-fe2fa98118d6",
   "metadata": {},
   "outputs": [
    {
     "data": {
      "text/plain": [
       "0.17"
      ]
     },
     "execution_count": 41,
     "metadata": {},
     "output_type": "execute_result"
    }
   ],
   "source": [
    "np.percentile(ds[\"Age\"],0)"
   ]
  },
  {
   "cell_type": "code",
   "execution_count": 42,
   "id": "595601d1-9bde-466e-894a-85d3397b095b",
   "metadata": {},
   "outputs": [
    {
     "data": {
      "text/plain": [
       "22.0"
      ]
     },
     "execution_count": 42,
     "metadata": {},
     "output_type": "execute_result"
    }
   ],
   "source": [
    "np.percentile(ds[\"Age\"],25)"
   ]
  },
  {
   "cell_type": "code",
   "execution_count": 43,
   "id": "322ac305-f109-4d18-b342-fa6b17bb91a7",
   "metadata": {},
   "outputs": [
    {
     "data": {
      "text/plain": [
       "28.0"
      ]
     },
     "execution_count": 43,
     "metadata": {},
     "output_type": "execute_result"
    }
   ],
   "source": [
    "np.percentile(ds[\"Age\"],50)"
   ]
  },
  {
   "cell_type": "code",
   "execution_count": 44,
   "id": "006b0323-4827-47cd-92c7-a299215a1ce5",
   "metadata": {},
   "outputs": [
    {
     "data": {
      "text/plain": [
       "35.0"
      ]
     },
     "execution_count": 44,
     "metadata": {},
     "output_type": "execute_result"
    }
   ],
   "source": [
    "np.percentile(ds[\"Age\"],75)"
   ]
  },
  {
   "cell_type": "code",
   "execution_count": 45,
   "id": "d09599b3-2117-472e-85c6-a945dbd62dcf",
   "metadata": {},
   "outputs": [
    {
     "data": {
      "text/plain": [
       "80.0"
      ]
     },
     "execution_count": 45,
     "metadata": {},
     "output_type": "execute_result"
    }
   ],
   "source": [
    "np.percentile(ds[\"Age\"],100)"
   ]
  },
  {
   "cell_type": "code",
   "execution_count": 47,
   "id": "a161cf47-6f67-400c-bdb8-f2cf40c8a3aa",
   "metadata": {},
   "outputs": [
    {
     "data": {
      "image/png": "[encoded data removed]",
      "text/plain": [
       "<Figure size 640x480 with 1 Axes>"
      ]
     },
     "metadata": {},
     "output_type": "display_data"
    }
   ],
   "source": [
    "sns.boxplot(x=\"Age\",data=ds)\n",
    "plt.show()"
   ]
  },
  {
   "cell_type": "code",
   "execution_count": 48,
   "id": "39f44c97-d088-4e7c-884f-141261324507",
   "metadata": {},
   "outputs": [
    {
     "data": {
      "image/png": "[encoded data removed]",
      "text/plain": [
       "<Figure size 640x480 with 1 Axes>"
      ]
     },
     "metadata": {},
     "output_type": "display_data"
    }
   ],
   "source": [
    "sns.boxplot(x=\"Fare\",data=ds)\n",
    "plt.show()"
   ]
  },
  {
   "cell_type": "markdown",
   "id": "dc049d97-99fa-4c83-b135-0e60cde9d32c",
   "metadata": {},
   "source": [
    "### Skewness\n",
    "shows how much data is spread"
   ]
  },
  {
   "cell_type": "code",
   "execution_count": 52,
   "id": "8693fd1f-27d0-4442-b4fc-7b69a0c15c44",
   "metadata": {},
   "outputs": [
    {
     "data": {
      "image/png": "[encoded data removed]",
      "text/plain": [
       "<Figure size 640x480 with 1 Axes>"
      ]
     },
     "metadata": {},
     "output_type": "display_data"
    }
   ],
   "source": [
    "sns.histplot(x='Age',data=ds)\n",
    "plt.show()"
   ]
  },
  {
   "cell_type": "code",
   "execution_count": 54,
   "id": "80788e4b-c346-4929-9025-341981ec08b8",
   "metadata": {},
   "outputs": [
    {
     "data": {
      "text/plain": [
       "0.5409870816962253"
      ]
     },
     "execution_count": 54,
     "metadata": {},
     "output_type": "execute_result"
    }
   ],
   "source": [
    "# skew>0 positive skewness graph\n",
    "ds['Age'].skew()"
   ]
  },
  {
   "cell_type": "code",
   "execution_count": 55,
   "id": "90f1fa1b-d362-4fd2-bc20-967837825bae",
   "metadata": {},
   "outputs": [
    {
     "data": {
      "text/plain": [
       "4.3695095504693855"
      ]
     },
     "execution_count": 55,
     "metadata": {},
     "output_type": "execute_result"
    }
   ],
   "source": [
    "ds['Fare'].skew()"
   ]
  },
  {
   "cell_type": "code",
   "execution_count": 56,
   "id": "28fc7fe9-0f47-4783-89ab-a1f860cc2dc0",
   "metadata": {},
   "outputs": [
    {
     "data": {
      "image/png": "[encoded data removed]",
      "text/plain": [
       "<Figure size 640x480 with 1 Axes>"
      ]
     },
     "metadata": {},
     "output_type": "display_data"
    }
   ],
   "source": [
    "sns.histplot(x='Fare',data=ds)\n",
    "plt.show()"
   ]
  },
  {
   "cell_type": "code",
   "execution_count": 65,
   "id": "52a3e0ab-6162-41a6-9ab6-00178b47bee3",
   "metadata": {},
   "outputs": [],
   "source": [
    "data=np.random.normal(100,100,100)"
   ]
  },
  {
   "cell_type": "code",
   "execution_count": 66,
   "id": "82025f85-bc93-4c17-a034-2e225e294b9e",
   "metadata": {},
   "outputs": [
    {
     "data": {
      "text/plain": [
       "-0.2788544927161196"
      ]
     },
     "execution_count": 66,
     "metadata": {},
     "output_type": "execute_result"
    }
   ],
   "source": [
    "ds_edited=pd.DataFrame({'x':data})\n",
    "ds_edited[\"x\"].skew()"
   ]
  },
  {
   "cell_type": "code",
   "execution_count": 67,
   "id": "ee5973da-836a-4e5e-8c69-e0f10e353577",
   "metadata": {},
   "outputs": [
    {
     "data": {
      "text/plain": [
       "(95.8475966336049, 108.97231714472903, -153.7961543881067)"
      ]
     },
     "execution_count": 67,
     "metadata": {},
     "output_type": "execute_result"
    }
   ],
   "source": [
    "ds_edited[\"x\"].mean(),ds_edited[\"x\"].median(),ds_edited[\"x\"].mode()[0]"
   ]
  },
  {
   "attachments": {
    "2df533a4-c371-4c61-a87d-fe827ea50f70.png": {
     "image/png": "[encoded data removed]"
    }
   },
   "cell_type": "markdown",
   "id": "a176ec2e-b754-4d1a-83ad-cad716af07ca",
   "metadata": {},
   "source": [
    "# Probability\n",
    "\n",
    "1. A probability distribution describes how the values of a random variable are distributed. It shows what outcomes are possible and how likely they are\n",
    "\n",
    "Two types:\n",
    "Discrete Probability Distribution: For countable outcomes (e.g., dice roll).\n",
    "\n",
    "Continuous Probability Distribution: For outcomes over a continuous range (e.g., height, weight).\n",
    "\n",
    "🔸 Probability Mass Function (PMF)\n",
    "Used for discrete variables.\n",
    "\n",
    "Shows the probability of each specific value\n",
    "    \n",
    "2. Normal Distribution\n",
    "👉 What is it?\n",
    "A normal distribution is a continuous, bell-shaped curve that is symmetric about the mean. It’s one of the most important distributions in statistics.\n",
    "\n",
    "Key features:\n",
    "Mean = Median = Mode\n",
    "\n",
    "Symmetric around the mean\n",
    "\n",
    "Spread is determined by the standard deviation (σ)\n",
    "3. Standard Normal Distribution\n",
    "👉 What is it?\n",
    "A standard normal distribution is a special case of the normal distribution where:\n",
    "\n",
    "Mean \n",
    "μ=0\n",
    "Standard deviation \n",
    "σ=1\n",
    "\n",
    "![image.png](attachment:2df533a4-c371-4c61-a87d-fe827ea50f70.png)                                 |\n"
   ]
  },
  {
   "cell_type": "markdown",
   "id": "575eb064-fe5b-4802-b589-87c8aa8a1d9e",
   "metadata": {},
   "source": [
    "## covariance and Correaltion"
   ]
  },
  {
   "cell_type": "code",
   "execution_count": 7,
   "id": "e3fca2c5-ff95-4be1-ab2d-12d61744dd0c",
   "metadata": {},
   "outputs": [
    {
     "data": {
      "text/html": [
       "<div>\n",
       "<style scoped>\n",
       "    .dataframe tbody tr th:only-of-type {\n",
       "        vertical-align: middle;\n",
       "    }\n",
       "\n",
       "    .dataframe tbody tr th {\n",
       "        vertical-align: top;\n",
       "    }\n",
       "\n",
       "    .dataframe thead th {\n",
       "        text-align: right;\n",
       "    }\n",
       "</style>\n",
       "<table border=\"1\" class=\"dataframe\">\n",
       "  <thead>\n",
       "    <tr style=\"text-align: right;\">\n",
       "      <th></th>\n",
       "      <th>total_bill</th>\n",
       "      <th>tip</th>\n",
       "      <th>sex</th>\n",
       "      <th>smoker</th>\n",
       "      <th>day</th>\n",
       "      <th>time</th>\n",
       "      <th>size</th>\n",
       "      <th>price_per_person</th>\n",
       "      <th>Payer Name</th>\n",
       "      <th>CC Number</th>\n",
       "      <th>Payment ID</th>\n",
       "    </tr>\n",
       "  </thead>\n",
       "  <tbody>\n",
       "    <tr>\n",
       "      <th>0</th>\n",
       "      <td>16.99</td>\n",
       "      <td>1.01</td>\n",
       "      <td>Female</td>\n",
       "      <td>No</td>\n",
       "      <td>Sun</td>\n",
       "      <td>Dinner</td>\n",
       "      <td>2</td>\n",
       "      <td>8.49</td>\n",
       "      <td>Christy Cunningham</td>\n",
       "      <td>3560325168603410</td>\n",
       "      <td>Sun2959</td>\n",
       "    </tr>\n",
       "    <tr>\n",
       "      <th>1</th>\n",
       "      <td>10.34</td>\n",
       "      <td>1.66</td>\n",
       "      <td>Male</td>\n",
       "      <td>No</td>\n",
       "      <td>Sun</td>\n",
       "      <td>Dinner</td>\n",
       "      <td>3</td>\n",
       "      <td>3.45</td>\n",
       "      <td>Douglas Tucker</td>\n",
       "      <td>4478071379779230</td>\n",
       "      <td>Sun4608</td>\n",
       "    </tr>\n",
       "    <tr>\n",
       "      <th>2</th>\n",
       "      <td>21.01</td>\n",
       "      <td>3.50</td>\n",
       "      <td>Male</td>\n",
       "      <td>No</td>\n",
       "      <td>Sun</td>\n",
       "      <td>Dinner</td>\n",
       "      <td>3</td>\n",
       "      <td>7.00</td>\n",
       "      <td>Travis Walters</td>\n",
       "      <td>6011812112971322</td>\n",
       "      <td>Sun4458</td>\n",
       "    </tr>\n",
       "  </tbody>\n",
       "</table>\n",
       "</div>"
      ],
      "text/plain": [
       "   total_bill   tip     sex smoker  day    time  size  price_per_person  \\\n",
       "0       16.99  1.01  Female     No  Sun  Dinner     2              8.49   \n",
       "1       10.34  1.66    Male     No  Sun  Dinner     3              3.45   \n",
       "2       21.01  3.50    Male     No  Sun  Dinner     3              7.00   \n",
       "\n",
       "           Payer Name         CC Number Payment ID  \n",
       "0  Christy Cunningham  3560325168603410    Sun2959  \n",
       "1      Douglas Tucker  4478071379779230    Sun4608  \n",
       "2      Travis Walters  6011812112971322    Sun4458  "
      ]
     },
     "execution_count": 7,
     "metadata": {},
     "output_type": "execute_result"
    }
   ],
   "source": [
    "ds1.head(3)"
   ]
  },
  {
   "cell_type": "code",
   "execution_count": 8,
   "id": "8e624c3b-39da-4cc5-811e-c2e6b36e21ce",
   "metadata": {},
   "outputs": [
    {
     "name": "stdout",
     "output_type": "stream",
     "text": [
      "<class 'pandas.core.frame.DataFrame'>\n",
      "RangeIndex: 244 entries, 0 to 243\n",
      "Data columns (total 11 columns):\n",
      " #   Column            Non-Null Count  Dtype  \n",
      "---  ------            --------------  -----  \n",
      " 0   total_bill        244 non-null    float64\n",
      " 1   tip               244 non-null    float64\n",
      " 2   sex               244 non-null    object \n",
      " 3   smoker            244 non-null    object \n",
      " 4   day               244 non-null    object \n",
      " 5   time              244 non-null    object \n",
      " 6   size              244 non-null    int64  \n",
      " 7   price_per_person  244 non-null    float64\n",
      " 8   Payer Name        244 non-null    object \n",
      " 9   CC Number         244 non-null    int64  \n",
      " 10  Payment ID        244 non-null    object \n",
      "dtypes: float64(3), int64(2), object(6)\n",
      "memory usage: 21.1+ KB\n"
     ]
    }
   ],
   "source": [
    "ds1.info()"
   ]
  },
  {
   "cell_type": "code",
   "execution_count": 13,
   "id": "a8426a33-8213-4f1e-a22a-5aec2c64594b",
   "metadata": {},
   "outputs": [
    {
     "data": {
      "text/html": [
       "<div>\n",
       "<style scoped>\n",
       "    .dataframe tbody tr th:only-of-type {\n",
       "        vertical-align: middle;\n",
       "    }\n",
       "\n",
       "    .dataframe tbody tr th {\n",
       "        vertical-align: top;\n",
       "    }\n",
       "\n",
       "    .dataframe thead th {\n",
       "        text-align: right;\n",
       "    }\n",
       "</style>\n",
       "<table border=\"1\" class=\"dataframe\">\n",
       "  <thead>\n",
       "    <tr style=\"text-align: right;\">\n",
       "      <th></th>\n",
       "      <th>total_bill</th>\n",
       "      <th>tip</th>\n",
       "      <th>size</th>\n",
       "      <th>price_per_person</th>\n",
       "      <th>CC Number</th>\n",
       "    </tr>\n",
       "  </thead>\n",
       "  <tbody>\n",
       "    <tr>\n",
       "      <th>total_bill</th>\n",
       "      <td>1.000000</td>\n",
       "      <td>0.675734</td>\n",
       "      <td>0.598315</td>\n",
       "      <td>0.647554</td>\n",
       "      <td>0.104576</td>\n",
       "    </tr>\n",
       "    <tr>\n",
       "      <th>tip</th>\n",
       "      <td>0.675734</td>\n",
       "      <td>1.000000</td>\n",
       "      <td>0.489299</td>\n",
       "      <td>0.347405</td>\n",
       "      <td>0.110857</td>\n",
       "    </tr>\n",
       "    <tr>\n",
       "      <th>size</th>\n",
       "      <td>0.598315</td>\n",
       "      <td>0.489299</td>\n",
       "      <td>1.000000</td>\n",
       "      <td>-0.175359</td>\n",
       "      <td>-0.030239</td>\n",
       "    </tr>\n",
       "    <tr>\n",
       "      <th>price_per_person</th>\n",
       "      <td>0.647554</td>\n",
       "      <td>0.347405</td>\n",
       "      <td>-0.175359</td>\n",
       "      <td>1.000000</td>\n",
       "      <td>0.135240</td>\n",
       "    </tr>\n",
       "    <tr>\n",
       "      <th>CC Number</th>\n",
       "      <td>0.104576</td>\n",
       "      <td>0.110857</td>\n",
       "      <td>-0.030239</td>\n",
       "      <td>0.135240</td>\n",
       "      <td>1.000000</td>\n",
       "    </tr>\n",
       "  </tbody>\n",
       "</table>\n",
       "</div>"
      ],
      "text/plain": [
       "                  total_bill       tip      size  price_per_person  CC Number\n",
       "total_bill          1.000000  0.675734  0.598315          0.647554   0.104576\n",
       "tip                 0.675734  1.000000  0.489299          0.347405   0.110857\n",
       "size                0.598315  0.489299  1.000000         -0.175359  -0.030239\n",
       "price_per_person    0.647554  0.347405 -0.175359          1.000000   0.135240\n",
       "CC Number           0.104576  0.110857 -0.030239          0.135240   1.000000"
      ]
     },
     "execution_count": 13,
     "metadata": {},
     "output_type": "execute_result"
    }
   ],
   "source": [
    "data_corr=ds1.select_dtypes([\"float64\",'int64']).corr()\n",
    "data_corr"
   ]
  },
  {
   "cell_type": "code",
   "execution_count": 14,
   "id": "fccf291a-a689-412d-9eae-8c4633f7d51c",
   "metadata": {},
   "outputs": [
    {
     "data": {
      "text/html": [
       "<div>\n",
       "<style scoped>\n",
       "    .dataframe tbody tr th:only-of-type {\n",
       "        vertical-align: middle;\n",
       "    }\n",
       "\n",
       "    .dataframe tbody tr th {\n",
       "        vertical-align: top;\n",
       "    }\n",
       "\n",
       "    .dataframe thead th {\n",
       "        text-align: right;\n",
       "    }\n",
       "</style>\n",
       "<table border=\"1\" class=\"dataframe\">\n",
       "  <thead>\n",
       "    <tr style=\"text-align: right;\">\n",
       "      <th></th>\n",
       "      <th>total_bill</th>\n",
       "      <th>tip</th>\n",
       "      <th>size</th>\n",
       "      <th>price_per_person</th>\n",
       "      <th>CC Number</th>\n",
       "    </tr>\n",
       "  </thead>\n",
       "  <tbody>\n",
       "    <tr>\n",
       "      <th>total_bill</th>\n",
       "      <td>7.925294e+01</td>\n",
       "      <td>8.323502e+00</td>\n",
       "      <td>5.065983e+00</td>\n",
       "      <td>1.679995e+01</td>\n",
       "      <td>2.205798e+15</td>\n",
       "    </tr>\n",
       "    <tr>\n",
       "      <th>tip</th>\n",
       "      <td>8.323502e+00</td>\n",
       "      <td>1.914455e+00</td>\n",
       "      <td>6.439064e-01</td>\n",
       "      <td>1.400824e+00</td>\n",
       "      <td>3.634222e+14</td>\n",
       "    </tr>\n",
       "    <tr>\n",
       "      <th>size</th>\n",
       "      <td>5.065983e+00</td>\n",
       "      <td>6.439064e-01</td>\n",
       "      <td>9.045908e-01</td>\n",
       "      <td>-4.860467e-01</td>\n",
       "      <td>-6.814401e+13</td>\n",
       "    </tr>\n",
       "    <tr>\n",
       "      <th>price_per_person</th>\n",
       "      <td>1.679995e+01</td>\n",
       "      <td>1.400824e+00</td>\n",
       "      <td>-4.860467e-01</td>\n",
       "      <td>8.492761e+00</td>\n",
       "      <td>9.338058e+14</td>\n",
       "    </tr>\n",
       "    <tr>\n",
       "      <th>CC Number</th>\n",
       "      <td>2.205798e+15</td>\n",
       "      <td>3.634222e+14</td>\n",
       "      <td>-6.814401e+13</td>\n",
       "      <td>9.338058e+14</td>\n",
       "      <td>5.613771e+30</td>\n",
       "    </tr>\n",
       "  </tbody>\n",
       "</table>\n",
       "</div>"
      ],
      "text/plain": [
       "                    total_bill           tip          size  price_per_person  \\\n",
       "total_bill        7.925294e+01  8.323502e+00  5.065983e+00      1.679995e+01   \n",
       "tip               8.323502e+00  1.914455e+00  6.439064e-01      1.400824e+00   \n",
       "size              5.065983e+00  6.439064e-01  9.045908e-01     -4.860467e-01   \n",
       "price_per_person  1.679995e+01  1.400824e+00 -4.860467e-01      8.492761e+00   \n",
       "CC Number         2.205798e+15  3.634222e+14 -6.814401e+13      9.338058e+14   \n",
       "\n",
       "                     CC Number  \n",
       "total_bill        2.205798e+15  \n",
       "tip               3.634222e+14  \n",
       "size             -6.814401e+13  \n",
       "price_per_person  9.338058e+14  \n",
       "CC Number         5.613771e+30  "
      ]
     },
     "execution_count": 14,
     "metadata": {},
     "output_type": "execute_result"
    }
   ],
   "source": [
    "data_cov=ds1.select_dtypes([\"float64\",'int64']).cov()\n",
    "data_cov"
   ]
  },
  {
   "cell_type": "code",
   "execution_count": 17,
   "id": "88784e01-13cf-4cec-a56d-a7199d4d2da1",
   "metadata": {},
   "outputs": [
    {
     "data": {
      "image/png": "[encoded data removed]",
      "text/plain": [
       "<Figure size 400x300 with 2 Axes>"
      ]
     },
     "metadata": {},
     "output_type": "display_data"
    }
   ],
   "source": [
    "plt.figure(figsize=(4,3))\n",
    "sns.heatmap(data_corr,annot=True)\n",
    "plt.show()"
   ]
  },
  {
   "cell_type": "code",
   "execution_count": 18,
   "id": "0a3d608b-e9d3-42ab-b015-c0e0f9614718",
   "metadata": {},
   "outputs": [
    {
     "data": {
      "image/png": "[encoded data removed]",
      "text/plain": [
       "<Figure size 400x300 with 2 Axes>"
      ]
     },
     "metadata": {},
     "output_type": "display_data"
    }
   ],
   "source": [
    "plt.figure(figsize=(4,3))\n",
    "sns.heatmap(data_cov,annot=True)\n",
    "plt.show()"
   ]
  },
  {
   "cell_type": "markdown",
   "id": "d76c61cb-06b6-4872-b0f4-8ad89f941f42",
   "metadata": {},
   "source": [
    "# Inferential Statistics\n",
    "used when we a large population data, then we select the sample from the population and do analysis , on behalf of the analysis we will make conclusions on the population data"
   ]
  },
  {
   "cell_type": "markdown",
   "id": "423f72e0-ab64-49de-9e0e-8045f0b0a180",
   "metadata": {},
   "source": [
    "## Central limit theorem"
   ]
  },
  {
   "cell_type": "code",
   "execution_count": 12,
   "id": "651bc43c-da6b-4c92-9357-928b07643619",
   "metadata": {},
   "outputs": [
    {
     "data": {
      "text/html": [
       "<div>\n",
       "<style scoped>\n",
       "    .dataframe tbody tr th:only-of-type {\n",
       "        vertical-align: middle;\n",
       "    }\n",
       "\n",
       "    .dataframe tbody tr th {\n",
       "        vertical-align: top;\n",
       "    }\n",
       "\n",
       "    .dataframe thead th {\n",
       "        text-align: right;\n",
       "    }\n",
       "</style>\n",
       "<table border=\"1\" class=\"dataframe\">\n",
       "  <thead>\n",
       "    <tr style=\"text-align: right;\">\n",
       "      <th></th>\n",
       "      <th>POP TABLE</th>\n",
       "    </tr>\n",
       "  </thead>\n",
       "  <tbody>\n",
       "    <tr>\n",
       "      <th>0</th>\n",
       "      <td>32</td>\n",
       "    </tr>\n",
       "    <tr>\n",
       "      <th>1</th>\n",
       "      <td>89</td>\n",
       "    </tr>\n",
       "    <tr>\n",
       "      <th>2</th>\n",
       "      <td>57</td>\n",
       "    </tr>\n",
       "    <tr>\n",
       "      <th>3</th>\n",
       "      <td>97</td>\n",
       "    </tr>\n",
       "    <tr>\n",
       "      <th>4</th>\n",
       "      <td>23</td>\n",
       "    </tr>\n",
       "  </tbody>\n",
       "</table>\n",
       "</div>"
      ],
      "text/plain": [
       "   POP TABLE\n",
       "0         32\n",
       "1         89\n",
       "2         57\n",
       "3         97\n",
       "4         23"
      ]
     },
     "execution_count": 12,
     "metadata": {},
     "output_type": "execute_result"
    }
   ],
   "source": [
    "pop_data=[np.random.randint(10,100) for i in range (10000)]\n",
    "pop_table=pd.DataFrame({\"POP TABLE\":pop_data})\n",
    "pop_table.head()"
   ]
  },
  {
   "cell_type": "code",
   "execution_count": 13,
   "id": "89388869-f926-4266-b702-d832cc7ab105",
   "metadata": {},
   "outputs": [
    {
     "data": {
      "image/png": "[encoded data removed]",
      "text/plain": [
       "<Figure size 300x200 with 1 Axes>"
      ]
     },
     "metadata": {},
     "output_type": "display_data"
    }
   ],
   "source": [
    "plt.figure(figsize=(3,2))\n",
    "sns.kdeplot(x=\"POP TABLE\",data=pop_table)\n",
    "plt.show()  # this is not normal distribution data , convert to noraml distribution data"
   ]
  },
  {
   "cell_type": "code",
   "execution_count": 14,
   "id": "963046c2-ec61-4916-b2c8-3f8af9d0af07",
   "metadata": {},
   "outputs": [],
   "source": [
    "sample_mean=[]\n",
    "for no_sample in range(50):\n",
    "    sample_data=[]\n",
    "    for data in range(500):\n",
    "        sample_data.append(np.random.choice(pop_data))\n",
    "    sample_mean.append(np.mean(sample_data))    "
   ]
  },
  {
   "cell_type": "code",
   "execution_count": 21,
   "id": "06eeede7-a4ad-4457-9894-d482be551b82",
   "metadata": {},
   "outputs": [],
   "source": [
    "sample_M = pd.DataFrame({\"Sample_Mean\":sample_mean})"
   ]
  },
  {
   "cell_type": "code",
   "execution_count": 23,
   "id": "0060a171-bbdc-4099-a51e-4e88262abb01",
   "metadata": {},
   "outputs": [
    {
     "data": {
      "image/png": "[encoded data removed]",
      "text/plain": [
       "<Figure size 300x200 with 1 Axes>"
      ]
     },
     "metadata": {},
     "output_type": "display_data"
    }
   ],
   "source": [
    "plt.figure(figsize=(3,2))\n",
    "sns.kdeplot(x=\"Sample_Mean\",data=sample_M)\n",
    "plt.show()"
   ]
  },
  {
   "cell_type": "code",
   "execution_count": 26,
   "id": "4c843601-08ed-4265-9a20-2f24e227abc3",
   "metadata": {},
   "outputs": [
    {
     "data": {
      "text/plain": [
       "(54.722, 54.74936)"
      ]
     },
     "execution_count": 26,
     "metadata": {},
     "output_type": "execute_result"
    }
   ],
   "source": [
    "np.mean(pop_data),np.mean(sample_mean)"
   ]
  },
  {
   "cell_type": "markdown",
   "id": "6431970f-d498-412a-a041-091e94150b85",
   "metadata": {},
   "source": [
    "## Hypothesis Testing"
   ]
  },
  {
   "cell_type": "code",
   "execution_count": 5,
   "id": "7a149d32-5e34-4876-957b-61e5ce6d5ea5",
   "metadata": {},
   "outputs": [],
   "source": [
    "import scipy.stats as st"
   ]
  },
  {
   "cell_type": "code",
   "execution_count": 7,
   "id": "f5bcdf37-b0f8-4237-b29f-ee8d2d67f914",
   "metadata": {},
   "outputs": [],
   "source": [
    "s_x=90\n",
    "p_u=80\n",
    "p_std=20\n",
    "n=81\n",
    "ap=0.05"
   ]
  },
  {
   "cell_type": "code",
   "execution_count": 8,
   "id": "d22ca0ff-c5c1-4eb6-b63a-eb20da1420c7",
   "metadata": {},
   "outputs": [
    {
     "data": {
      "text/plain": [
       "4.5"
      ]
     },
     "execution_count": 8,
     "metadata": {},
     "output_type": "execute_result"
    }
   ],
   "source": [
    "z_cal=(s_x-p_u)/(p_std/np.sqrt(n))\n",
    "z_cal"
   ]
  },
  {
   "cell_type": "code",
   "execution_count": 9,
   "id": "56625682-32ca-4a73-946a-27637b731785",
   "metadata": {},
   "outputs": [
    {
     "data": {
      "text/plain": [
       "1.6448536269514722"
      ]
     },
     "execution_count": 9,
     "metadata": {},
     "output_type": "execute_result"
    }
   ],
   "source": [
    "z_table=st.norm.ppf(1-ap)\n",
    "z_table"
   ]
  },
  {
   "cell_type": "code",
   "execution_count": 10,
   "id": "b9b567f7-795e-4688-bad8-ee51ac45c437",
   "metadata": {},
   "outputs": [
    {
     "name": "stdout",
     "output_type": "stream",
     "text": [
      "Ha is Accepted\n"
     ]
    }
   ],
   "source": [
    "if z_table < z_cal :\n",
    "    print(\"Ha is Accepted\")\n",
    "else :\n",
    "    print(\"Ho is Accepted\")"
   ]
  },
  {
   "cell_type": "code",
   "execution_count": null,
   "id": "799ed25f-73ab-4b45-b873-040f5c44683c",
   "metadata": {},
   "outputs": [],
   "source": []
  }
 ],
 "metadata": {
  "kernelspec": {
   "display_name": "Python 3 (ipykernel)",
   "language": "python",
   "name": "python3"
  },
  "language_info": {
   "codemirror_mode": {
    "name": "ipython",
    "version": 3
   },
   "file_extension": ".py",
   "mimetype": "text/x-python",
   "name": "python",
   "nbconvert_exporter": "python",
   "pygments_lexer": "ipython3",
   "version": "3.12.7"
  }
 },
 "nbformat": 4,
 "nbformat_minor": 5
}
